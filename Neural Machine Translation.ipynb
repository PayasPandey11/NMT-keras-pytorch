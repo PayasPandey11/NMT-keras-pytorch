{
 "cells": [
  {
   "cell_type": "code",
   "execution_count": 1,
   "metadata": {
    "collapsed": true
   },
   "outputs": [],
   "source": [
    "import string\n",
    "import re\n",
    "from pickle import dump,load\n",
    "from unicodedata import normalize\n",
    "from numpy import array"
   ]
  },
  {
   "cell_type": "code",
   "execution_count": 2,
   "metadata": {
    "collapsed": true
   },
   "outputs": [],
   "source": [
    "def load_file(filename):\n",
    "    \n",
    "    file = open(filename,mode=\"rt\",encoding=\"utf-8\")\n",
    "    text = file.read()\n",
    "    file.close()\n",
    "    \n",
    "    return text"
   ]
  },
  {
   "cell_type": "code",
   "execution_count": 3,
   "metadata": {
    "collapsed": true
   },
   "outputs": [],
   "source": [
    "\n",
    "def get_pairs(doc):\n",
    "    lines = doc.strip().split(\"\\n\")\n",
    "    pairs = [line.split('\\t') for line in  lines]\n",
    "    print(pairs[:10])\n",
    "    return(pairs)"
   ]
  },
  {
   "cell_type": "code",
   "execution_count": 4,
   "metadata": {
    "collapsed": true
   },
   "outputs": [],
   "source": [
    "# clean a list of lines\n",
    "def clean_pairs(lines):\n",
    "    cleaned = list()\n",
    "    # prepare regex for char filtering\n",
    "    re_print = re.compile('[^%s]' % re.escape(string.printable))\n",
    "    # prepare translation table for removing punctuation\n",
    "    table = str.maketrans('', '', string.punctuation)\n",
    "    for pair in lines:\n",
    "        clean_pair = list()\n",
    "        for line in pair:\n",
    "            # normalize unicode characters\n",
    "            line = normalize('NFD', line).encode('ascii', 'ignore')\n",
    "            line = line.decode('UTF-8')\n",
    "            # tokenize on white space\n",
    "            line = line.split()\n",
    "            # convert to lowercase\n",
    "            line = [word.lower() for word in line]\n",
    "            # remove punctuation from each token\n",
    "            line = [word.translate(table) for word in line]\n",
    "            # remove non-printable chars form each token\n",
    "            line = [re_print.sub('', w) for w in line]\n",
    "            # remove tokens with numbers in them\n",
    "            line = [word for word in line if word.isalpha()]\n",
    "            # store as string\n",
    "            clean_pair.append(' '.join(line))\n",
    "        cleaned.append(clean_pair)\n",
    "    print(cleaned[:10])\n",
    "    return array(cleaned)"
   ]
  },
  {
   "cell_type": "code",
   "execution_count": 5,
   "metadata": {
    "collapsed": true
   },
   "outputs": [],
   "source": [
    "def save_clean_data(sentences, filename):\n",
    "    dump(sentences, open(filename, 'wb'))\n",
    "    print('Saved: %s' % filename)\n",
    "    \n"
   ]
  },
  {
   "cell_type": "code",
   "execution_count": 6,
   "metadata": {},
   "outputs": [
    {
     "name": "stdout",
     "output_type": "stream",
     "text": [
      "[['Go.', 'Va !'], ['Run!', 'Cours\\u202f!'], ['Run!', 'Courez\\u202f!'], ['Wow!', 'Ça alors\\u202f!'], ['Fire!', 'Au feu !'], ['Help!', \"À l'aide\\u202f!\"], ['Jump.', 'Saute.'], ['Stop!', 'Ça suffit\\u202f!'], ['Stop!', 'Stop\\u202f!'], ['Stop!', 'Arrête-toi !']]\n",
      "[['go', 'va'], ['run', 'cours'], ['run', 'courez'], ['wow', 'ca alors'], ['fire', 'au feu'], ['help', 'a laide'], ['jump', 'saute'], ['stop', 'ca suffit'], ['stop', 'stop'], ['stop', 'arretetoi']]\n",
      "Saved: /home/payas/dl_box/data/names_languages/english-french.pkl\n"
     ]
    }
   ],
   "source": [
    "filename = \"/home/payas/dl_box/data/names_languages/eng-fra.txt\"\n",
    "doc = load_file(filename)\n",
    "pairs = get_pairs(doc)\n",
    "cleaned_pairs = clean_pairs(pairs)\n",
    "save_clean_data(cleaned_pairs, '/home/payas/dl_box/data/names_languages/english-french.pkl')\n",
    "\n",
    "raw_dataset = cleaned_pairs\n",
    "n_sentences = 10000\n",
    "dataset = raw_dataset[:n_sentences, :]\n",
    "train = dataset[:9000]\n",
    "test = dataset[9000:]"
   ]
  },
  {
   "cell_type": "code",
   "execution_count": 7,
   "metadata": {},
   "outputs": [
    {
     "name": "stderr",
     "output_type": "stream",
     "text": [
      "Using TensorFlow backend.\n"
     ]
    },
    {
     "name": "stdout",
     "output_type": "stream",
     "text": [
      "English Vocabulary Size: 2221\n",
      "English Max Length: 5\n",
      "french Vocabulary Size: 4476\n",
      "French Max Length: 10\n"
     ]
    }
   ],
   "source": [
    "from keras.preprocessing.text import Tokenizer\n",
    "from keras.preprocessing.sequence import pad_sequences\n",
    "\n",
    "def create_tokenizer(lines):\n",
    "    tokenizer = Tokenizer()\n",
    "    tokenizer.fit_on_texts(lines)\n",
    "    return tokenizer\n",
    " \n",
    "# prepare english tokenizer\n",
    "eng_tokenizer = create_tokenizer(dataset[:, 0])\n",
    "eng_vocab_size = len(eng_tokenizer.word_index) + 1\n",
    "eng_length = max(len(line.split()) for line in dataset[:,0])\n",
    "print('English Vocabulary Size: %d' % eng_vocab_size)\n",
    "print('English Max Length: %d' % (eng_length))\n",
    "# prepare French tokenizer\n",
    "fr_tokenizer = create_tokenizer(dataset[:, 1])\n",
    "fr_vocab_size = len(fr_tokenizer.word_index) + 1\n",
    "fr_length = max(len(line.split()) for line in dataset[:,1])\n",
    "print('french Vocabulary Size: %d' % fr_vocab_size)\n",
    "print('French Max Length: %d' % (fr_length))"
   ]
  },
  {
   "cell_type": "code",
   "execution_count": 11,
   "metadata": {
    "collapsed": true
   },
   "outputs": [],
   "source": [
    "from keras.utils import to_categorical\n",
    "\n",
    "def encode_input(tokenizer,length,lines):\n",
    "    \n",
    "    X = tokenizer.texts_to_sequences(lines)\n",
    "    X = pad_sequences(X, maxlen=length, padding='post')\n",
    "    \n",
    "    return X\n",
    "\n",
    "def encode_output(sequences, vocab_size):\n",
    "    ylist = list()\n",
    "    for sequence in sequences:\n",
    "        encoded = to_categorical(sequence, num_classes=vocab_size)\n",
    "        ylist.append(encoded)\n",
    "    y = array(ylist)\n",
    "    y = y.reshape(sequences.shape[0], sequences.shape[1], vocab_size)\n",
    "    return y"
   ]
  },
  {
   "cell_type": "code",
   "execution_count": 24,
   "metadata": {},
   "outputs": [
    {
     "name": "stdout",
     "output_type": "stream",
     "text": [
      "Word-translation \n",
      " [['go' 'va']] \n",
      " Input \n",
      "  [[54  0  0  0  0  0  0  0  0  0]]  \n",
      " Expected output \n",
      " [[[ 0.  0.  0. ...,  0.  0.  0.]\n",
      "  [ 1.  0.  0. ...,  0.  0.  0.]\n",
      "  [ 1.  0.  0. ...,  0.  0.  0.]\n",
      "  [ 1.  0.  0. ...,  0.  0.  0.]\n",
      "  [ 1.  0.  0. ...,  0.  0.  0.]]]\n"
     ]
    }
   ],
   "source": [
    "# prepare training data\n",
    "trainX = encode_input(fr_tokenizer, fr_length, train[:, 1])\n",
    "trainY = encode_input(eng_tokenizer, eng_length, train[:, 0])\n",
    "trainY = encode_output(trainY, eng_vocab_size)\n",
    "# prepare validation data\n",
    "testX = encode_input(fr_tokenizer, fr_length, test[:, 1])\n",
    "testY = encode_input(eng_tokenizer, eng_length, test[:, 0])\n",
    "testY = encode_output(testY, eng_vocab_size)\n",
    "\n",
    "print(\"Word-translation \\n\",train[:1],\"\\n Input \\n \",trainX[:1],\" \\n Expected output \\n\",trainY[:1])\n"
   ]
  },
  {
   "cell_type": "code",
   "execution_count": 28,
   "metadata": {},
   "outputs": [],
   "source": [
    "from keras.models import Sequential\n",
    "from keras.layers import LSTM\n",
    "from keras.layers import Dense\n",
    "from keras.layers import Embedding\n",
    "from keras.layers import RepeatVector\n",
    "from keras.layers import TimeDistributed\n",
    "from keras.callbacks import ModelCheckpoint\n",
    "from keras.utils.vis_utils import plot_model\n",
    "\n",
    "def define_model(src_vocab, tar_vocab, src_timesteps, tar_timesteps, n_units):\n",
    "    \n",
    "    model = Sequential()\n",
    "    model.add(Embedding(src_vocab, n_units, input_length=src_timesteps, mask_zero=True))\n",
    "    model.add(LSTM(n_units))\n",
    "    model.add(RepeatVector(tar_timesteps))\n",
    "    model.add(LSTM(n_units, return_sequences=True))\n",
    "    model.add(TimeDistributed(Dense(tar_vocab, activation='softmax')))\n",
    "    \n",
    "    return model"
   ]
  },
  {
   "cell_type": "code",
   "execution_count": 33,
   "metadata": {},
   "outputs": [
    {
     "name": "stdout",
     "output_type": "stream",
     "text": [
      "_________________________________________________________________\n",
      "Layer (type)                 Output Shape              Param #   \n",
      "=================================================================\n",
      "embedding_5 (Embedding)      (None, 10, 256)           1145856   \n",
      "_________________________________________________________________\n",
      "lstm_9 (LSTM)                (None, 256)               525312    \n",
      "_________________________________________________________________\n",
      "repeat_vector_5 (RepeatVecto (None, 5, 256)            0         \n",
      "_________________________________________________________________\n",
      "lstm_10 (LSTM)               (None, 5, 256)            525312    \n",
      "_________________________________________________________________\n",
      "time_distributed_5 (TimeDist (None, 5, 2221)           570797    \n",
      "=================================================================\n",
      "Total params: 2,767,277\n",
      "Trainable params: 2,767,277\n",
      "Non-trainable params: 0\n",
      "_________________________________________________________________\n",
      "None\n",
      "Train on 9000 samples, validate on 1000 samples\n",
      "Epoch 1/30\n",
      "Epoch 00000: val_loss improved from inf to 4.21251, saving model to model.h5\n",
      "28s - loss: 4.2433 - val_loss: 4.2125\n",
      "Epoch 2/30\n",
      "Epoch 00001: val_loss improved from 4.21251 to 4.00280, saving model to model.h5\n",
      "19s - loss: 3.3025 - val_loss: 4.0028\n",
      "Epoch 3/30\n",
      "Epoch 00002: val_loss did not improve\n",
      "19s - loss: 3.1475 - val_loss: 4.0294\n",
      "Epoch 4/30\n",
      "Epoch 00003: val_loss improved from 4.00280 to 3.86710, saving model to model.h5\n",
      "19s - loss: 3.0067 - val_loss: 3.8671\n",
      "Epoch 5/30\n",
      "Epoch 00004: val_loss improved from 3.86710 to 3.82526, saving model to model.h5\n",
      "22s - loss: 2.8183 - val_loss: 3.8253\n",
      "Epoch 6/30\n",
      "Epoch 00005: val_loss improved from 3.82526 to 3.82287, saving model to model.h5\n",
      "20s - loss: 2.6448 - val_loss: 3.8229\n",
      "Epoch 7/30\n",
      "Epoch 00006: val_loss improved from 3.82287 to 3.78786, saving model to model.h5\n",
      "20s - loss: 2.4878 - val_loss: 3.7879\n",
      "Epoch 8/30\n",
      "Epoch 00007: val_loss improved from 3.78786 to 3.76451, saving model to model.h5\n",
      "22s - loss: 2.3251 - val_loss: 3.7645\n",
      "Epoch 9/30\n",
      "Epoch 00008: val_loss improved from 3.76451 to 3.70951, saving model to model.h5\n",
      "20s - loss: 2.1652 - val_loss: 3.7095\n",
      "Epoch 10/30\n",
      "Epoch 00009: val_loss improved from 3.70951 to 3.70826, saving model to model.h5\n",
      "22s - loss: 2.0129 - val_loss: 3.7083\n",
      "Epoch 11/30\n",
      "Epoch 00010: val_loss improved from 3.70826 to 3.68608, saving model to model.h5\n",
      "22s - loss: 1.8695 - val_loss: 3.6861\n",
      "Epoch 12/30\n",
      "Epoch 00011: val_loss did not improve\n",
      "21s - loss: 1.7385 - val_loss: 3.7212\n",
      "Epoch 13/30\n",
      "Epoch 00012: val_loss did not improve\n",
      "22s - loss: 1.6176 - val_loss: 3.7204\n",
      "Epoch 14/30\n",
      "Epoch 00013: val_loss did not improve\n",
      "23s - loss: 1.5006 - val_loss: 3.7376\n",
      "Epoch 15/30\n",
      "Epoch 00014: val_loss did not improve\n",
      "24s - loss: 1.3912 - val_loss: 3.6909\n",
      "Epoch 16/30\n",
      "Epoch 00015: val_loss did not improve\n",
      "22s - loss: 1.2907 - val_loss: 3.6886\n",
      "Epoch 17/30\n",
      "Epoch 00016: val_loss improved from 3.68608 to 3.67081, saving model to model.h5\n",
      "23s - loss: 1.1916 - val_loss: 3.6708\n",
      "Epoch 18/30\n",
      "Epoch 00017: val_loss did not improve\n",
      "22s - loss: 1.0983 - val_loss: 3.7374\n",
      "Epoch 19/30\n",
      "Epoch 00018: val_loss did not improve\n",
      "26s - loss: 1.0098 - val_loss: 3.7577\n",
      "Epoch 20/30\n",
      "Epoch 00019: val_loss did not improve\n",
      "26s - loss: 0.9269 - val_loss: 3.7433\n",
      "Epoch 21/30\n",
      "Epoch 00020: val_loss did not improve\n",
      "26s - loss: 0.8471 - val_loss: 3.7473\n",
      "Epoch 22/30\n",
      "Epoch 00021: val_loss did not improve\n",
      "25s - loss: 0.7734 - val_loss: 3.8000\n",
      "Epoch 23/30\n",
      "Epoch 00022: val_loss did not improve\n",
      "28s - loss: 0.7029 - val_loss: 3.8466\n",
      "Epoch 24/30\n",
      "Epoch 00023: val_loss did not improve\n",
      "29s - loss: 0.6424 - val_loss: 3.8181\n",
      "Epoch 25/30\n",
      "Epoch 00024: val_loss did not improve\n",
      "21s - loss: 0.5840 - val_loss: 3.8529\n",
      "Epoch 26/30\n",
      "Epoch 00025: val_loss did not improve\n",
      "26s - loss: 0.5294 - val_loss: 3.8244\n",
      "Epoch 27/30\n",
      "Epoch 00026: val_loss did not improve\n",
      "24s - loss: 0.4812 - val_loss: 3.8491\n",
      "Epoch 28/30\n",
      "Epoch 00027: val_loss did not improve\n",
      "22s - loss: 0.4371 - val_loss: 3.8992\n",
      "Epoch 29/30\n",
      "Epoch 00028: val_loss did not improve\n",
      "21s - loss: 0.3986 - val_loss: 3.8825\n",
      "Epoch 30/30\n",
      "Epoch 00029: val_loss did not improve\n",
      "20s - loss: 0.3628 - val_loss: 3.9196\n"
     ]
    },
    {
     "data": {
      "text/plain": [
       "<keras.callbacks.History at 0x7ff092dd2dd8>"
      ]
     },
     "execution_count": 33,
     "metadata": {},
     "output_type": "execute_result"
    }
   ],
   "source": [
    "# define model\n",
    "model = define_model(fr_vocab_size, eng_vocab_size, fr_length, eng_length, 256)\n",
    "model.compile(optimizer='adam', loss='categorical_crossentropy')\n",
    "# summarize defined model\n",
    "print(model.summary())\n",
    "#plot_model(model,show_shapes=True)\n",
    "# fit model\n",
    "filename = 'model.h5'\n",
    "checkpoint = ModelCheckpoint(filename, monitor='val_loss', verbose=1, save_best_only=True, mode='min')\n",
    "model.fit(trainX, trainY, epochs=30, batch_size=64, validation_data=(testX, testY), callbacks=[checkpoint], verbose=2)"
   ]
  },
  {
   "cell_type": "code",
   "execution_count": 41,
   "metadata": {
    "collapsed": true
   },
   "outputs": [],
   "source": [
    "from numpy import argmax\n",
    "# map an integer to a word\n",
    "def word_for_id(integer, tokenizer):\n",
    "    for word, index in tokenizer.word_index.items():\n",
    "        if index == integer:\n",
    "            return word\n",
    "    return None\n",
    " \n",
    "# generate target given source sequence\n",
    "def predict_sequence(model, tokenizer, source):\n",
    "    prediction = model.predict(source, verbose=0)[0]\n",
    "    integers = [argmax(vector) for vector in prediction]\n",
    "    target = list()\n",
    "    for i in integers:\n",
    "        word = word_for_id(i, tokenizer)\n",
    "        if word is None:\n",
    "            break\n",
    "        target.append(word)\n",
    "    return ' '.join(target)"
   ]
  },
  {
   "cell_type": "code",
   "execution_count": 70,
   "metadata": {},
   "outputs": [
    {
     "data": {
      "text/plain": [
       "'wow'"
      ]
     },
     "execution_count": 70,
     "metadata": {},
     "output_type": "execute_result"
    }
   ],
   "source": [
    "predict_sequence(model,eng_tokenizer,trainX[3:])"
   ]
  },
  {
   "cell_type": "code",
   "execution_count": 65,
   "metadata": {},
   "outputs": [
    {
     "name": "stdout",
     "output_type": "stream",
     "text": [
      "[['go' 'va']\n",
      " ['run' 'cours']\n",
      " ['run' 'courez']\n",
      " ..., \n",
      " ['i cant fake it' 'je ne peux pas le simuler']\n",
      " ['i cant feel it' 'je ne le ressens pas']\n",
      " ['i cant feel it' 'je ne parviens pas a le percevoir']]\n"
     ]
    }
   ],
   "source": [
    "print(train[3:])"
   ]
  },
  {
   "cell_type": "code",
   "execution_count": null,
   "metadata": {
    "collapsed": true
   },
   "outputs": [],
   "source": []
  }
 ],
 "metadata": {
  "kernelspec": {
   "display_name": "Python 3",
   "language": "python",
   "name": "python3"
  },
  "language_info": {
   "codemirror_mode": {
    "name": "ipython",
    "version": 3
   },
   "file_extension": ".py",
   "mimetype": "text/x-python",
   "name": "python",
   "nbconvert_exporter": "python",
   "pygments_lexer": "ipython3",
   "version": "3.6.1"
  }
 },
 "nbformat": 4,
 "nbformat_minor": 2
}
